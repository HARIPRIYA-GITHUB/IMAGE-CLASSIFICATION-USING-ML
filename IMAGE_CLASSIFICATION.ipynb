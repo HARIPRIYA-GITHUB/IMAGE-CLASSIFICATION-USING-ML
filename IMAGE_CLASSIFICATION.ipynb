{
  "nbformat": 4,
  "nbformat_minor": 0,
  "metadata": {
    "colab": {
      "name": "IMAGE CLASSIFICATION",
      "provenance": [],
      "authorship_tag": "ABX9TyMVVe5oQNbVOmnf27OCqwqJ",
      "include_colab_link": true
    },
    "kernelspec": {
      "name": "python3",
      "display_name": "Python 3"
    },
    "language_info": {
      "name": "python"
    }
  },
  "cells": [
    {
      "cell_type": "markdown",
      "metadata": {
        "id": "view-in-github",
        "colab_type": "text"
      },
      "source": [
        "<a href=\"https://colab.research.google.com/github/HARIPRIYA-GITHUB/IMAGE-CLASSIFICATION-USING-ML/blob/main/IMAGE_CLASSIFICATION.ipynb\" target=\"_parent\"><img src=\"https://colab.research.google.com/assets/colab-badge.svg\" alt=\"Open In Colab\"/></a>"
      ]
    },
    {
      "cell_type": "code",
      "metadata": {
        "colab": {
          "base_uri": "https://localhost:8080/"
        },
        "id": "uVBhz6fpjhdx",
        "outputId": "17c16478-b8ae-4e74-f7fd-7e6cd15ea1a8"
      },
      "source": [
        "!pip install ipython-autotime\n",
        "%load_ext autotime"
      ],
      "execution_count": 7,
      "outputs": [
        {
          "output_type": "stream",
          "text": [
            "Requirement already satisfied: ipython-autotime in /usr/local/lib/python3.7/dist-packages (0.3.1)\n",
            "Requirement already satisfied: ipython in /usr/local/lib/python3.7/dist-packages (from ipython-autotime) (5.5.0)\n",
            "Requirement already satisfied: pygments in /usr/local/lib/python3.7/dist-packages (from ipython->ipython-autotime) (2.6.1)\n",
            "Requirement already satisfied: simplegeneric>0.8 in /usr/local/lib/python3.7/dist-packages (from ipython->ipython-autotime) (0.8.1)\n",
            "Requirement already satisfied: decorator in /usr/local/lib/python3.7/dist-packages (from ipython->ipython-autotime) (4.4.2)\n",
            "Requirement already satisfied: traitlets>=4.2 in /usr/local/lib/python3.7/dist-packages (from ipython->ipython-autotime) (5.0.5)\n",
            "Requirement already satisfied: setuptools>=18.5 in /usr/local/lib/python3.7/dist-packages (from ipython->ipython-autotime) (56.1.0)\n",
            "Requirement already satisfied: pexpect; sys_platform != \"win32\" in /usr/local/lib/python3.7/dist-packages (from ipython->ipython-autotime) (4.8.0)\n",
            "Requirement already satisfied: pickleshare in /usr/local/lib/python3.7/dist-packages (from ipython->ipython-autotime) (0.7.5)\n",
            "Requirement already satisfied: prompt-toolkit<2.0.0,>=1.0.4 in /usr/local/lib/python3.7/dist-packages (from ipython->ipython-autotime) (1.0.18)\n",
            "Requirement already satisfied: ipython-genutils in /usr/local/lib/python3.7/dist-packages (from traitlets>=4.2->ipython->ipython-autotime) (0.2.0)\n",
            "Requirement already satisfied: ptyprocess>=0.5 in /usr/local/lib/python3.7/dist-packages (from pexpect; sys_platform != \"win32\"->ipython->ipython-autotime) (0.7.0)\n",
            "Requirement already satisfied: six>=1.9.0 in /usr/local/lib/python3.7/dist-packages (from prompt-toolkit<2.0.0,>=1.0.4->ipython->ipython-autotime) (1.15.0)\n",
            "Requirement already satisfied: wcwidth in /usr/local/lib/python3.7/dist-packages (from prompt-toolkit<2.0.0,>=1.0.4->ipython->ipython-autotime) (0.2.5)\n",
            "time: 217 µs (started: 2021-05-24 10:30:08 +00:00)\n"
          ],
          "name": "stdout"
        }
      ]
    },
    {
      "cell_type": "code",
      "metadata": {
        "colab": {
          "base_uri": "https://localhost:8080/"
        },
        "id": "xBYHRmPPr82f",
        "outputId": "53887cce-7cd6-4f6c-e1e2-1bc3aa688e6f"
      },
      "source": [
        "!pip install bing-image-downloader"
      ],
      "execution_count": 8,
      "outputs": [
        {
          "output_type": "stream",
          "text": [
            "Requirement already satisfied: bing-image-downloader in /usr/local/lib/python3.7/dist-packages (1.0.4)\n",
            "time: 2.52 s (started: 2021-05-24 10:30:08 +00:00)\n"
          ],
          "name": "stdout"
        }
      ]
    },
    {
      "cell_type": "code",
      "metadata": {
        "colab": {
          "base_uri": "https://localhost:8080/"
        },
        "id": "PkpBN7wSsCKN",
        "outputId": "624862a9-0045-42e0-da50-4cb1c2f94000"
      },
      "source": [
        "!mkdir images"
      ],
      "execution_count": 9,
      "outputs": [
        {
          "output_type": "stream",
          "text": [
            "mkdir: cannot create directory ‘images’: File exists\n",
            "time: 117 ms (started: 2021-05-24 10:30:10 +00:00)\n"
          ],
          "name": "stdout"
        }
      ]
    },
    {
      "cell_type": "code",
      "metadata": {
        "colab": {
          "base_uri": "https://localhost:8080/"
        },
        "id": "FkyYoyDTsFc9",
        "outputId": "de33f458-0132-4e8e-91d8-ba86be30915e"
      },
      "source": [
        "from bing_image_downloader import downloader\n",
        "downloader.download(\"sunflowers\",limit=30,output_dir='images',\n",
        "                    adult_filter_off=True)"
      ],
      "execution_count": 10,
      "outputs": [
        {
          "output_type": "stream",
          "text": [
            "\n",
            "\n",
            "[!!]Indexing page: 1\n",
            "\n",
            "[%] Indexed 10 Images on Page 1.\n",
            "\n",
            "===============================================\n",
            "\n",
            "[%] Downloading Image #1 from https://www.hdwallpapers.in/download/closeup_photo_of_sunflower_with_shallow_focus_red_and_yellow_sky_during_sunset_4k_hd_flowers-1280x720.jpg\n",
            "[%] File Downloaded !\n",
            "\n",
            "[%] Downloading Image #2 from http://hdlatestwallpaper.com/wp-content/themes/sahifa/download.php?fname=Summer-Sunflowers-HD-wallpaper-640x1136.jpg&amp;act=download&amp;edmc=14944&amp;path=http://hdlatestwallpaper.com/wp-content/uploads/2017/10/Summer-Sunflowers-HD-wallpaper-640x1136.jpg\n",
            "[!] Issue getting: http://hdlatestwallpaper.com/wp-content/themes/sahifa/download.php?fname=Summer-Sunflowers-HD-wallpaper-640x1136.jpg&amp;act=download&amp;edmc=14944&amp;path=http://hdlatestwallpaper.com/wp-content/uploads/2017/10/Summer-Sunflowers-HD-wallpaper-640x1136.jpg\n",
            "[!] Error:: HTTP Error 403: Forbidden\n",
            "[%] Downloading Image #2 from http://www.hdwallpapers.in/download/sunflowers_landscape-1920x1080.jpg\n",
            "[%] File Downloaded !\n",
            "\n",
            "[%] Downloading Image #3 from http://rainyside.com/images/annuals/HelianthusSoraya090804_2.jpg\n",
            "[%] File Downloaded !\n",
            "\n",
            "[%] Downloading Image #4 from https://www.desktopbackground.org/download/480x800/2011/05/03/197389_download-sunflower-field-backgrounds-hd-wallpapers_2048x1260_h.jpg\n",
            "[%] File Downloaded !\n",
            "\n",
            "[%] Downloading Image #5 from https://www.hdwallpapers.in/download/pink_gerbera_flower-1366x768.jpg\n",
            "[%] File Downloaded !\n",
            "\n",
            "[%] Downloading Image #6 from https://wallup.net/wp-content/uploads/2018/03/19/573997-sunflowers-sunrise-sky-clouds.jpg\n",
            "[%] File Downloaded !\n",
            "\n",
            "[%] Downloading Image #7 from https://4kwallpapers.com/images/wallpapers/sunflowers-flower-vase-wooden-background-teal-640x1136-921.jpg\n",
            "[%] File Downloaded !\n",
            "\n",
            "[%] Downloading Image #8 from https://www.whiteflowercake.com/wp-content/uploads/2016/11/IMG_0992.jpg\n",
            "[%] File Downloaded !\n",
            "\n",
            "[%] Downloading Image #9 from https://cdn.architecturendesign.net/wp-content/uploads/2015/12/AD-Floral-Christmas-Tree-Decorating-Ideas-17.jpg\n",
            "[%] File Downloaded !\n",
            "\n",
            "\n",
            "\n",
            "[!!]Indexing page: 2\n",
            "\n",
            "[%] Indexed 10 Images on Page 2.\n",
            "\n",
            "===============================================\n",
            "\n",
            "[%] Downloading Image #10 from https://www.wallpapers13.com/wp-content/uploads/2020/09/Sunflower-farm-field-yellow-flowers-beautiful-sunset--1680x1050.jpg\n",
            "[%] File Downloaded !\n",
            "\n",
            "[%] Downloading Image #11 from https://www.wallpapers13.com/wp-content/uploads/2019/07/Jackson-Lake-Lak-in-Wyoming-Grand-Teton-National-Park-in-northwestern-Wyoming-United-States-yellow-wild-flowers-1024x768.jpg\n",
            "[%] File Downloaded !\n",
            "\n",
            "[%] Downloading Image #12 from http://2.bp.blogspot.com/-dsmUm53WeEo/UcqX_NNCdpI/AAAAAAAALeE/jQI0S-TXdP4/s1600/The_Road_of_Death_In_Bolivia_14_www.aksooneh.ir.jpg\n",
            "[%] File Downloaded !\n",
            "\n",
            "[%] Downloading Image #13 from https://i.pinimg.com/736x/b6/bf/06/b6bf06f78462e2197148833868f4a123.jpg\n",
            "[%] File Downloaded !\n",
            "\n",
            "[%] Downloading Image #14 from https://fsb.zobj.net/crop.php?r=P5LRuItC4cRHUUS6M4793omyqmoeEpMBV5k0jDb9YwCGSioLqpIR9D8-wz76PXNpw70sV382KWjgxEoMOaGNVf4Q25YGFVtAVkMN8wAs4xZOF8T8EdUKiX-ozEHyWLFswGMP5i2_AeEJFvgxultQDrMOg7X_sKVN3vJPHv-_vZRykbAUijdYYeGMuDEJ90G8DKEPTinu8yPkjyFc\n",
            "[%] File Downloaded !\n",
            "\n",
            "[%] Downloading Image #15 from http://www.minnesotawildflowers.info/udata/r9ndp23q/yellow/giant-sunflower-0725_124507.jpg\n",
            "[%] File Downloaded !\n",
            "\n",
            "[%] Downloading Image #16 from http://rusticweddingchic.com/wp-content/uploads/2015/10/Zak_Zak_Eureka_Photography_TwistedRanchWeddingPhotography53_low-590x885.jpg\n",
            "[%] File Downloaded !\n",
            "\n",
            "[%] Downloading Image #17 from https://68.media.tumblr.com/48e1b52fa41f6b8501a8487acce073ce/tumblr_mns0dgAPBS1sp77uwo1_500.jpg\n",
            "[%] File Downloaded !\n",
            "\n",
            "[%] Downloading Image #18 from https://i0.wp.com/www.ecstasycoffee.com/wp-content/uploads/2016/09/Sunflower-tattoo-design-4.jpg?resize=600,818\n",
            "[%] File Downloaded !\n",
            "\n",
            "[%] Downloading Image #19 from http://clickwallpapers.com/1080p/sunflower-widescreen-wallpaper-free-On-Wallpaper-1080p-HD.jpg\n",
            "[!] Issue getting: http://clickwallpapers.com/1080p/sunflower-widescreen-wallpaper-free-On-Wallpaper-1080p-HD.jpg\n",
            "[!] Error:: HTTP Error 522: Origin Connection Time-out\n",
            "\n",
            "\n",
            "[!!]Indexing page: 3\n",
            "\n",
            "[%] Indexed 9 Images on Page 3.\n",
            "\n",
            "===============================================\n",
            "\n",
            "[%] Downloading Image #19 from http://www.hdwallpapers.in/download/sunflowers_landscape-1920x1080.jpg\n",
            "[%] File Downloaded !\n",
            "\n",
            "[%] Downloading Image #20 from http://rainyside.com/images/annuals/HelianthusSoraya090804_2.jpg\n",
            "[%] File Downloaded !\n",
            "\n",
            "[%] Downloading Image #21 from https://www.desktopbackground.org/download/480x800/2011/05/03/197389_download-sunflower-field-backgrounds-hd-wallpapers_2048x1260_h.jpg\n",
            "[%] File Downloaded !\n",
            "\n",
            "[%] Downloading Image #22 from https://www.hdwallpapers.in/download/pink_gerbera_flower-1366x768.jpg\n",
            "[%] File Downloaded !\n",
            "\n",
            "[%] Downloading Image #23 from https://wallup.net/wp-content/uploads/2018/03/19/573997-sunflowers-sunrise-sky-clouds.jpg\n",
            "[%] File Downloaded !\n",
            "\n",
            "[%] Downloading Image #24 from https://4kwallpapers.com/images/wallpapers/sunflowers-flower-vase-wooden-background-teal-640x1136-921.jpg\n",
            "[%] File Downloaded !\n",
            "\n",
            "[%] Downloading Image #25 from https://www.whiteflowercake.com/wp-content/uploads/2016/11/IMG_0992.jpg\n",
            "[%] File Downloaded !\n",
            "\n",
            "[%] Downloading Image #26 from https://cdn.architecturendesign.net/wp-content/uploads/2015/12/AD-Floral-Christmas-Tree-Decorating-Ideas-17.jpg\n",
            "[%] File Downloaded !\n",
            "\n",
            "[%] Downloading Image #27 from http://hdlatestwallpaper.com/wp-content/themes/sahifa/download.php?fname=Summer-Sunflowers-HD-wallpaper-640x1136.jpg&amp;act=download&amp;edmc=14944&amp;path=http://hdlatestwallpaper.com/wp-content/uploads/2017/10/Summer-Sunflowers-HD-wallpaper-640x1136.jpg\n",
            "[!] Issue getting: http://hdlatestwallpaper.com/wp-content/themes/sahifa/download.php?fname=Summer-Sunflowers-HD-wallpaper-640x1136.jpg&amp;act=download&amp;edmc=14944&amp;path=http://hdlatestwallpaper.com/wp-content/uploads/2017/10/Summer-Sunflowers-HD-wallpaper-640x1136.jpg\n",
            "[!] Error:: HTTP Error 403: Forbidden\n",
            "\n",
            "\n",
            "[!!]Indexing page: 4\n",
            "\n",
            "[%] Indexed 8 Images on Page 4.\n",
            "\n",
            "===============================================\n",
            "\n",
            "[%] Downloading Image #27 from https://www.desktopbackground.org/download/480x800/2011/05/03/197389_download-sunflower-field-backgrounds-hd-wallpapers_2048x1260_h.jpg\n",
            "[%] File Downloaded !\n",
            "\n",
            "[%] Downloading Image #28 from https://wallup.net/wp-content/uploads/2018/03/19/573997-sunflowers-sunrise-sky-clouds.jpg\n",
            "[%] File Downloaded !\n",
            "\n",
            "[%] Downloading Image #29 from https://4kwallpapers.com/images/wallpapers/sunflowers-flower-vase-wooden-background-teal-640x1136-921.jpg\n",
            "[%] File Downloaded !\n",
            "\n",
            "[%] Downloading Image #30 from https://www.whiteflowercake.com/wp-content/uploads/2016/11/IMG_0992.jpg\n",
            "[%] File Downloaded !\n",
            "\n",
            "\n",
            "\n",
            "[%] Done. Downloaded 30 images.\n",
            "\n",
            "===============================================\n",
            "\n",
            "time: 30.1 s (started: 2021-05-24 10:30:11 +00:00)\n"
          ],
          "name": "stdout"
        }
      ]
    },
    {
      "cell_type": "code",
      "metadata": {
        "colab": {
          "base_uri": "https://localhost:8080/"
        },
        "id": "xc_WLiFIsH7_",
        "outputId": "df8e1871-06c7-4d0e-bb94-852233def2f2"
      },
      "source": [
        "downloader.download(\"cricketball\",limit=30,output_dir='images',\n",
        "                    adult_filter_off=True)"
      ],
      "execution_count": 11,
      "outputs": [
        {
          "output_type": "stream",
          "text": [
            "\n",
            "\n",
            "[!!]Indexing page: 1\n",
            "\n",
            "[%] Indexed 10 Images on Page 1.\n",
            "\n",
            "===============================================\n",
            "\n",
            "[%] Downloading Image #1 from https://www.rebelsport.co.nz/globalassets/productimages/rebel/8139945/8139945_default_1.jpg?CatalogContentThumb-254538-150-150-58-0,0\n",
            "[%] File Downloaded !\n",
            "\n",
            "[%] Downloading Image #2 from http://afternooncrumbs.com/wp-content/uploads/2014/07/DSC_0455.jpg\n",
            "[!] Issue getting: http://afternooncrumbs.com/wp-content/uploads/2014/07/DSC_0455.jpg\n",
            "[!] Error:: [Errno 104] Connection reset by peer\n",
            "[%] Downloading Image #2 from http://www.transparentpng.com/thumb/cricket-ball/MZq5al-cricket-ball-photos.png\n",
            "[%] File Downloaded !\n",
            "\n",
            "[%] Downloading Image #3 from https://d.ibtimes.co.uk/en/full/1411432/phil-hughes-cricket.jpg\n",
            "[%] File Downloaded !\n",
            "\n",
            "[%] Downloading Image #4 from https://static.vecteezy.com/system/resources/previews/000/219/217/original/cricket-theme-background-vector.jpg\n",
            "[%] File Downloaded !\n",
            "\n",
            "[%] Downloading Image #5 from http://hockeygods.com/system/gallery_images/8396/normal.jpg?1336107347\n",
            "[%] File Downloaded !\n",
            "\n",
            "[%] Downloading Image #6 from https://www.guidepatterns.com/wp-content/uploads/2016/12/Elastic-Band-Ball.jpg\n",
            "[%] File Downloaded !\n",
            "\n",
            "[%] Downloading Image #7 from https://i.ytimg.com/vi/E49rK0tWsSc/maxresdefault.jpg\n",
            "[%] File Downloaded !\n",
            "\n",
            "[%] Downloading Image #8 from http://static.soposted.com/uploads/2016/05/First_CricketBall.jpg\n",
            "[%] File Downloaded !\n",
            "\n",
            "[%] Downloading Image #9 from https://thumbs.dreamstime.com/b/tribal-soccer-balls-10322895.jpg\n",
            "[%] File Downloaded !\n",
            "\n",
            "\n",
            "\n",
            "[!!]Indexing page: 2\n",
            "\n",
            "[%] Indexed 8 Images on Page 2.\n",
            "\n",
            "===============================================\n",
            "\n",
            "[%] Downloading Image #10 from http://www.khelmart.com/Cricket/zoomer_Image/KK_CB_000036_large_2.jpg\n",
            "[%] File Downloaded !\n",
            "\n",
            "[%] Downloading Image #11 from http://afternooncrumbs.com/wp-content/uploads/2014/07/DSC_0373.jpg\n",
            "[%] File Downloaded !\n",
            "\n",
            "[%] Downloading Image #12 from https://i.ytimg.com/vi/vIHjSvpTXnM/maxresdefault.jpg\n",
            "[%] File Downloaded !\n",
            "\n",
            "[%] Downloading Image #13 from http://afternooncrumbs.com/wp-content/uploads/2014/07/DSC_0423.jpg\n",
            "[%] File Downloaded !\n",
            "\n",
            "[%] Downloading Image #14 from http://i.ytimg.com/vi/r7LqII9Yz6k/hqdefault.jpg\n",
            "[%] File Downloaded !\n",
            "\n",
            "[%] Downloading Image #15 from https://www.sbs.com.au/topics/sites/sbs.com.au.topics/files/capture_105.png\n",
            "[%] File Downloaded !\n",
            "\n",
            "[%] Downloading Image #16 from http://saltypopcorn.com.au/wp-content/uploads/2016/09/mcbeaton-e1472708966752.jpg\n",
            "[%] File Downloaded !\n",
            "\n",
            "[%] Downloading Image #17 from https://c2.staticflickr.com/4/3844/14975602901_ac0710c7b7_b.jpg\n",
            "[%] File Downloaded !\n",
            "\n",
            "\n",
            "\n",
            "[!!]Indexing page: 3\n",
            "\n",
            "[%] Indexed 9 Images on Page 3.\n",
            "\n",
            "===============================================\n",
            "\n",
            "[%] Downloading Image #18 from http://afternooncrumbs.com/wp-content/uploads/2014/07/DSC_0455.jpg\n",
            "[%] File Downloaded !\n",
            "\n",
            "[%] Downloading Image #19 from http://www.transparentpng.com/thumb/cricket-ball/MZq5al-cricket-ball-photos.png\n",
            "[%] File Downloaded !\n",
            "\n",
            "[%] Downloading Image #20 from https://d.ibtimes.co.uk/en/full/1411432/phil-hughes-cricket.jpg\n",
            "[%] File Downloaded !\n",
            "\n",
            "[%] Downloading Image #21 from https://static.vecteezy.com/system/resources/previews/000/219/217/original/cricket-theme-background-vector.jpg\n",
            "[%] File Downloaded !\n",
            "\n",
            "[%] Downloading Image #22 from http://hockeygods.com/system/gallery_images/8396/normal.jpg?1336107347\n",
            "[%] File Downloaded !\n",
            "\n",
            "[%] Downloading Image #23 from https://www.guidepatterns.com/wp-content/uploads/2016/12/Elastic-Band-Ball.jpg\n",
            "[%] File Downloaded !\n",
            "\n",
            "[%] Downloading Image #24 from https://i.ytimg.com/vi/E49rK0tWsSc/maxresdefault.jpg\n",
            "[%] File Downloaded !\n",
            "\n",
            "[%] Downloading Image #25 from http://static.soposted.com/uploads/2016/05/First_CricketBall.jpg\n",
            "[%] File Downloaded !\n",
            "\n",
            "[%] Downloading Image #26 from https://thumbs.dreamstime.com/b/tribal-soccer-balls-10322895.jpg\n",
            "[%] File Downloaded !\n",
            "\n",
            "\n",
            "\n",
            "[!!]Indexing page: 4\n",
            "\n",
            "[%] Indexed 8 Images on Page 4.\n",
            "\n",
            "===============================================\n",
            "\n",
            "[%] Downloading Image #27 from http://www.transparentpng.com/thumb/cricket-ball/MZq5al-cricket-ball-photos.png\n",
            "[%] File Downloaded !\n",
            "\n",
            "[%] Downloading Image #28 from https://d.ibtimes.co.uk/en/full/1411432/phil-hughes-cricket.jpg\n",
            "[%] File Downloaded !\n",
            "\n",
            "[%] Downloading Image #29 from https://static.vecteezy.com/system/resources/previews/000/219/217/original/cricket-theme-background-vector.jpg\n",
            "[%] File Downloaded !\n",
            "\n",
            "[%] Downloading Image #30 from http://hockeygods.com/system/gallery_images/8396/normal.jpg?1336107347\n",
            "[%] File Downloaded !\n",
            "\n",
            "\n",
            "\n",
            "[%] Done. Downloaded 30 images.\n",
            "\n",
            "===============================================\n",
            "\n",
            "time: 18.1 s (started: 2021-05-24 10:30:41 +00:00)\n"
          ],
          "name": "stdout"
        }
      ]
    },
    {
      "cell_type": "code",
      "metadata": {
        "colab": {
          "base_uri": "https://localhost:8080/"
        },
        "id": "KaxNCsH5sMtj",
        "outputId": "fdf3fbe1-16b7-4575-e779-41b4abe01e2a"
      },
      "source": [
        "downloader.download(\"ice cream cone\",limit=30,output_dir='images',\n",
        "                    adult_filter_off=True)"
      ],
      "execution_count": 12,
      "outputs": [
        {
          "output_type": "stream",
          "text": [
            "\n",
            "\n",
            "[!!]Indexing page: 1\n",
            "\n",
            "[%] Indexed 10 Images on Page 1.\n",
            "\n",
            "===============================================\n",
            "\n",
            "[%] Downloading Image #1 from http://www.anothersomething.org/wp-content/uploads-anothersomething/2014/04/58_MG_1877-new-brighton-copy.jpg\n",
            "[%] File Downloaded !\n",
            "\n",
            "[%] Downloading Image #2 from https://www1.pictures.zimbio.com/bg/Monica+daughter+Saint+Tropez+1JAn2pd_wl7x.jpg\n",
            "[%] File Downloaded !\n",
            "\n",
            "[%] Downloading Image #3 from http://heavenlycakepops.com/wp-content/uploads/2013/07/image-6sm-767x1024.jpg\n",
            "[%] File Downloaded !\n",
            "\n",
            "[%] Downloading Image #4 from http://4.bp.blogspot.com/_MHtRnLjgdiI/TNGQwyNbfOI/AAAAAAAAACo/WkyX4DSIin4/s1600/ice-cream+(1).jpg\n",
            "[%] File Downloaded !\n",
            "\n",
            "[%] Downloading Image #5 from https://s3.thcdn.com/productimg/0/960/960/13/10602613-1334850924-673817.jpg\n",
            "[%] File Downloaded !\n",
            "\n",
            "[%] Downloading Image #6 from http://www.whoinventedit.net/wp-content/uploads/2009/09/IceCream.jpg\n",
            "[%] File Downloaded !\n",
            "\n",
            "[%] Downloading Image #7 from http://newyork.seriouseats.com/assets_c/2009/09/20080917-sugarrush-sundae-thumb-625xauto-44771.jpg\n",
            "[Error]Invalid image, not saving http://newyork.seriouseats.com/assets_c/2009/09/20080917-sugarrush-sundae-thumb-625xauto-44771.jpg\n",
            "\n",
            "[!] Issue getting: http://newyork.seriouseats.com/assets_c/2009/09/20080917-sugarrush-sundae-thumb-625xauto-44771.jpg\n",
            "[!] Error:: No active exception to reraise\n",
            "[%] Downloading Image #7 from https://www.booooooom.com/wp-content/uploads/2015/08/Penone2.jpg\n",
            "[%] File Downloaded !\n",
            "\n",
            "[%] Downloading Image #8 from http://www.quia.com/files/quia/users/carladefaveri/Pausenbrot/Eis\n",
            "[%] File Downloaded !\n",
            "\n",
            "[%] Downloading Image #9 from https://www.seriouseats.com/images/2012/11/20120712-214287-blue-moon-ice-cream.jpeg\n",
            "[!] Issue getting: https://www.seriouseats.com/images/2012/11/20120712-214287-blue-moon-ice-cream.jpeg\n",
            "[!] Error:: HTTP Error 404: Not Found\n",
            "\n",
            "\n",
            "[!!]Indexing page: 2\n",
            "\n",
            "[%] Indexed 10 Images on Page 2.\n",
            "\n",
            "===============================================\n",
            "\n",
            "[%] Downloading Image #9 from http://www.anothersomething.org/wp-content/uploads-anothersomething/2014/04/58_MG_1877-new-brighton-copy.jpg\n",
            "[%] File Downloaded !\n",
            "\n",
            "[%] Downloading Image #10 from https://www1.pictures.zimbio.com/bg/Monica+daughter+Saint+Tropez+1JAn2pd_wl7x.jpg\n",
            "[%] File Downloaded !\n",
            "\n",
            "[%] Downloading Image #11 from http://heavenlycakepops.com/wp-content/uploads/2013/07/image-6sm-767x1024.jpg\n",
            "[%] File Downloaded !\n",
            "\n",
            "[%] Downloading Image #12 from http://4.bp.blogspot.com/_MHtRnLjgdiI/TNGQwyNbfOI/AAAAAAAAACo/WkyX4DSIin4/s1600/ice-cream+(1).jpg\n",
            "[%] File Downloaded !\n",
            "\n",
            "[%] Downloading Image #13 from https://s3.thcdn.com/productimg/0/960/960/13/10602613-1334850924-673817.jpg\n",
            "[%] File Downloaded !\n",
            "\n",
            "[%] Downloading Image #14 from http://www.whoinventedit.net/wp-content/uploads/2009/09/IceCream.jpg\n",
            "[%] File Downloaded !\n",
            "\n",
            "[%] Downloading Image #15 from http://newyork.seriouseats.com/assets_c/2009/09/20080917-sugarrush-sundae-thumb-625xauto-44771.jpg\n",
            "[Error]Invalid image, not saving http://newyork.seriouseats.com/assets_c/2009/09/20080917-sugarrush-sundae-thumb-625xauto-44771.jpg\n",
            "\n",
            "[!] Issue getting: http://newyork.seriouseats.com/assets_c/2009/09/20080917-sugarrush-sundae-thumb-625xauto-44771.jpg\n",
            "[!] Error:: No active exception to reraise\n",
            "[%] Downloading Image #15 from https://www.booooooom.com/wp-content/uploads/2015/08/Penone2.jpg\n",
            "[%] File Downloaded !\n",
            "\n",
            "[%] Downloading Image #16 from http://www.quia.com/files/quia/users/carladefaveri/Pausenbrot/Eis\n",
            "[%] File Downloaded !\n",
            "\n",
            "[%] Downloading Image #17 from https://www.seriouseats.com/images/2012/11/20120712-214287-blue-moon-ice-cream.jpeg\n",
            "[!] Issue getting: https://www.seriouseats.com/images/2012/11/20120712-214287-blue-moon-ice-cream.jpeg\n",
            "[!] Error:: HTTP Error 404: Not Found\n",
            "\n",
            "\n",
            "[!!]Indexing page: 3\n",
            "\n",
            "[%] Indexed 9 Images on Page 3.\n",
            "\n",
            "===============================================\n",
            "\n",
            "[%] Downloading Image #17 from http://heavenlycakepops.com/wp-content/uploads/2013/07/image-6sm-767x1024.jpg\n",
            "[%] File Downloaded !\n",
            "\n",
            "[%] Downloading Image #18 from https://s3.thcdn.com/productimg/0/960/960/13/10602613-1334850924-673817.jpg\n",
            "[%] File Downloaded !\n",
            "\n",
            "[%] Downloading Image #19 from http://newyork.seriouseats.com/assets_c/2009/09/20080917-sugarrush-sundae-thumb-625xauto-44771.jpg\n",
            "[Error]Invalid image, not saving http://newyork.seriouseats.com/assets_c/2009/09/20080917-sugarrush-sundae-thumb-625xauto-44771.jpg\n",
            "\n",
            "[!] Issue getting: http://newyork.seriouseats.com/assets_c/2009/09/20080917-sugarrush-sundae-thumb-625xauto-44771.jpg\n",
            "[!] Error:: No active exception to reraise\n",
            "[%] Downloading Image #19 from http://www.quia.com/files/quia/users/carladefaveri/Pausenbrot/Eis\n",
            "[%] File Downloaded !\n",
            "\n",
            "[%] Downloading Image #20 from http://www.whoinventedit.net/wp-content/uploads/2009/09/IceCream.jpg\n",
            "[%] File Downloaded !\n",
            "\n",
            "[%] Downloading Image #21 from https://www.seriouseats.com/images/2012/11/20120712-214287-blue-moon-ice-cream.jpeg\n",
            "[!] Issue getting: https://www.seriouseats.com/images/2012/11/20120712-214287-blue-moon-ice-cream.jpeg\n",
            "[!] Error:: HTTP Error 404: Not Found\n",
            "[%] Downloading Image #21 from http://4.bp.blogspot.com/_MHtRnLjgdiI/TNGQwyNbfOI/AAAAAAAAACo/WkyX4DSIin4/s1600/ice-cream+(1).jpg\n",
            "[%] File Downloaded !\n",
            "\n",
            "[%] Downloading Image #22 from https://www1.pictures.zimbio.com/bg/Monica+daughter+Saint+Tropez+1JAn2pd_wl7x.jpg\n",
            "[%] File Downloaded !\n",
            "\n",
            "[%] Downloading Image #23 from https://www.booooooom.com/wp-content/uploads/2015/08/Penone2.jpg\n",
            "[%] File Downloaded !\n",
            "\n",
            "\n",
            "\n",
            "[!!]Indexing page: 4\n",
            "\n",
            "[%] Indexed 6 Images on Page 4.\n",
            "\n",
            "===============================================\n",
            "\n",
            "[%] Downloading Image #24 from https://www.rachaelraymag.com/.image/t_share/MTQzMjU4OTI2MjIxNjk4OTI1/microphone-cake-cones.jpg\n",
            "[%] File Downloaded !\n",
            "\n",
            "[%] Downloading Image #25 from https://www.trbimg.com/img-5b3be343/turbine/sf-exotic-ice-cream-treats-miami-fort-lauderdale-20180628\n",
            "[%] File Downloaded !\n",
            "\n",
            "[%] Downloading Image #26 from https://c8.alamy.com/comp/AJAH4W/large-plastic-ice-cream-cone-advertising-ice-cream-parlour-AJAH4W.jpg\n",
            "[%] File Downloaded !\n",
            "\n",
            "[%] Downloading Image #27 from https://the-glass-co.com/wp-content/uploads/2016/10/ice-cream-presentation.gif\n",
            "[%] File Downloaded !\n",
            "\n",
            "[%] Downloading Image #28 from https://i.pinimg.com/736x/15/ae/de/15aede19f0604860d90e5331dd244bda--kid-party-favors-goody-bags.jpg\n",
            "[%] File Downloaded !\n",
            "\n",
            "[%] Downloading Image #29 from http://www.how-to-draw-funny-cartoons.com/image-files/cartoon-ice-cream-5.gif\n",
            "[%] File Downloaded !\n",
            "\n",
            "\n",
            "\n",
            "[!!]Indexing page: 5\n",
            "\n",
            "[%] Indexed 7 Images on Page 5.\n",
            "\n",
            "===============================================\n",
            "\n",
            "[%] Downloading Image #30 from http://newyork.seriouseats.com/assets_c/2009/09/20080917-sugarrush-sundae-thumb-625xauto-44771.jpg\n",
            "[Error]Invalid image, not saving http://newyork.seriouseats.com/assets_c/2009/09/20080917-sugarrush-sundae-thumb-625xauto-44771.jpg\n",
            "\n",
            "[!] Issue getting: http://newyork.seriouseats.com/assets_c/2009/09/20080917-sugarrush-sundae-thumb-625xauto-44771.jpg\n",
            "[!] Error:: No active exception to reraise\n",
            "[%] Downloading Image #30 from http://www.quia.com/files/quia/users/carladefaveri/Pausenbrot/Eis\n",
            "[%] File Downloaded !\n",
            "\n",
            "\n",
            "\n",
            "[%] Done. Downloaded 30 images.\n",
            "\n",
            "===============================================\n",
            "\n",
            "time: 22.8 s (started: 2021-05-24 10:30:59 +00:00)\n"
          ],
          "name": "stdout"
        }
      ]
    },
    {
      "cell_type": "code",
      "metadata": {
        "colab": {
          "base_uri": "https://localhost:8080/"
        },
        "id": "ARh53qoRsSh7",
        "outputId": "ce43f49f-1198-457a-b0d6-d88c2a5d2726"
      },
      "source": [
        "import os\n",
        "import matplotlib.pyplot as plt\n",
        "import numpy as np\n",
        "from skimage.io import imread\n",
        "from skimage.transform import resize\n",
        "\n",
        "target = []\n",
        "images = []\n",
        "flat_data = []\n",
        "\n",
        "DATADIR ='/content/images'\n",
        "CATEGORIES =['sunflowers','cricketball','ice cream cone']\n",
        "\n",
        "for category in CATEGORIES:\n",
        "  class_num = CATEGORIES.index(category)\n",
        "  path = os.path.join(DATADIR,category)\n",
        "  for img in os.listdir(path):\n",
        "    img_array=imread(os.path.join(path,img))\n",
        "    #print(img_array.shape)\n",
        "    #plt.imshow(img_array)\n",
        "    img_resized=resize(img_array,(150,150,3))\n",
        "    flat_data.append(img_resized.flatten())\n",
        "    images.append(img_resized)\n",
        "    target.append(class_num)\n",
        "\n",
        "flat_data=np.array(flat_data)\n",
        "target=np.array(target)\n",
        "images=(np.array(images))"
      ],
      "execution_count": 13,
      "outputs": [
        {
          "output_type": "stream",
          "text": [
            "time: 30.8 s (started: 2021-05-24 10:31:22 +00:00)\n"
          ],
          "name": "stdout"
        }
      ]
    },
    {
      "cell_type": "code",
      "metadata": {
        "colab": {
          "base_uri": "https://localhost:8080/"
        },
        "id": "ktr9DHk0sV2M",
        "outputId": "8fc6bd52-a921-4a18-c886-5f999df1f459"
      },
      "source": [
        "flat_data[0]"
      ],
      "execution_count": 14,
      "outputs": [
        {
          "output_type": "execute_result",
          "data": {
            "text/plain": [
              "array([0.11764706, 0.02745098, 0.00392157, ..., 0.74509804, 0.60392157,\n",
              "       0.4627451 ])"
            ]
          },
          "metadata": {
            "tags": []
          },
          "execution_count": 14
        },
        {
          "output_type": "stream",
          "text": [
            "time: 3.9 ms (started: 2021-05-24 10:31:52 +00:00)\n"
          ],
          "name": "stdout"
        }
      ]
    },
    {
      "cell_type": "code",
      "metadata": {
        "colab": {
          "base_uri": "https://localhost:8080/",
          "height": 298
        },
        "id": "lPjUG98asgnp",
        "outputId": "9c18f904-f4a7-4909-d4b4-151b1ae77d99"
      },
      "source": [
        "unique,count=np.unique(target,return_counts=True)\n",
        "plt.bar(CATEGORIES,count)"
      ],
      "execution_count": 15,
      "outputs": [
        {
          "output_type": "execute_result",
          "data": {
            "text/plain": [
              "<BarContainer object of 3 artists>"
            ]
          },
          "metadata": {
            "tags": []
          },
          "execution_count": 15
        },
        {
          "output_type": "display_data",
          "data": {
            "image/png": "[encoded data removed]",
            "text/plain": [
              "<Figure size 432x288 with 1 Axes>"
            ]
          },
          "metadata": {
            "tags": [],
            "needs_background": "light"
          }
        },
        {
          "output_type": "stream",
          "text": [
            "time: 145 ms (started: 2021-05-24 10:31:52 +00:00)\n"
          ],
          "name": "stdout"
        }
      ]
    },
    {
      "cell_type": "code",
      "metadata": {
        "colab": {
          "base_uri": "https://localhost:8080/"
        },
        "id": "pM04ygtWsjDn",
        "outputId": "a88618b9-250f-406a-9103-368fc8ae492e"
      },
      "source": [
        "from sklearn.model_selection import train_test_split\n",
        "x_train,x_test,y_train,y_test=train_test_split(flat_data,target,\n",
        "                                               test_size=0.3,random_state=109)"
      ],
      "execution_count": 16,
      "outputs": [
        {
          "output_type": "stream",
          "text": [
            "time: 123 ms (started: 2021-05-24 10:31:53 +00:00)\n"
          ],
          "name": "stdout"
        }
      ]
    },
    {
      "cell_type": "code",
      "metadata": {
        "colab": {
          "base_uri": "https://localhost:8080/"
        },
        "id": "DcGa5GbDsnst",
        "outputId": "57fb8c1a-c8ee-4614-ef03-04330dcbc33a"
      },
      "source": [
        "from sklearn.model_selection import GridSearchCV\n",
        "from sklearn import svm\n",
        "param_grid = [\n",
        "              {'C':[1,10,100,1000],'kernel':['linear']},\n",
        "              {'C':[1,10,100,1000],'gamma':[0.001,0.0001],'kernel':['rbf']},\n",
        "]\n",
        "\n",
        "svc = svm.SVC(probability=True)\n",
        "clf = GridSearchCV(svc,param_grid)\n",
        "clf.fit(x_train,y_train)"
      ],
      "execution_count": 17,
      "outputs": [
        {
          "output_type": "execute_result",
          "data": {
            "text/plain": [
              "GridSearchCV(cv=None, error_score=nan,\n",
              "             estimator=SVC(C=1.0, break_ties=False, cache_size=200,\n",
              "                           class_weight=None, coef0=0.0,\n",
              "                           decision_function_shape='ovr', degree=3,\n",
              "                           gamma='scale', kernel='rbf', max_iter=-1,\n",
              "                           probability=True, random_state=None, shrinking=True,\n",
              "                           tol=0.001, verbose=False),\n",
              "             iid='deprecated', n_jobs=None,\n",
              "             param_grid=[{'C': [1, 10, 100, 1000], 'kernel': ['linear']},\n",
              "                         {'C': [1, 10, 100, 1000], 'gamma': [0.001, 0.0001],\n",
              "                          'kernel': ['rbf']}],\n",
              "             pre_dispatch='2*n_jobs', refit=True, return_train_score=False,\n",
              "             scoring=None, verbose=0)"
            ]
          },
          "metadata": {
            "tags": []
          },
          "execution_count": 17
        },
        {
          "output_type": "stream",
          "text": [
            "time: 1min 23s (started: 2021-05-24 10:31:53 +00:00)\n"
          ],
          "name": "stdout"
        }
      ]
    },
    {
      "cell_type": "code",
      "metadata": {
        "colab": {
          "base_uri": "https://localhost:8080/"
        },
        "id": "mFGzJKnXsp0u",
        "outputId": "2ad35535-3641-4973-fd29-88ac94d444cd"
      },
      "source": [
        "y_pred =clf.predict(x_test)\n",
        "y_pred"
      ],
      "execution_count": 18,
      "outputs": [
        {
          "output_type": "execute_result",
          "data": {
            "text/plain": [
              "array([0, 1, 1, 2, 1, 1, 2, 1, 2, 1, 1, 2, 2, 1, 1, 1, 0, 0, 1, 2, 2, 1,\n",
              "       1, 2, 0, 1, 1, 1, 1, 1, 1, 2])"
            ]
          },
          "metadata": {
            "tags": []
          },
          "execution_count": 18
        },
        {
          "output_type": "stream",
          "text": [
            "time: 146 ms (started: 2021-05-24 10:33:16 +00:00)\n"
          ],
          "name": "stdout"
        }
      ]
    },
    {
      "cell_type": "code",
      "metadata": {
        "colab": {
          "base_uri": "https://localhost:8080/"
        },
        "id": "uxr58QA-tAaT",
        "outputId": "a94f0856-f121-41d2-b845-54e6beaab2ac"
      },
      "source": [
        "y_test"
      ],
      "execution_count": 19,
      "outputs": [
        {
          "output_type": "execute_result",
          "data": {
            "text/plain": [
              "array([0, 1, 1, 2, 1, 2, 2, 2, 2, 2, 1, 2, 2, 1, 0, 1, 0, 0, 1, 2, 2, 2,\n",
              "       1, 2, 0, 0, 0, 1, 1, 1, 1, 2])"
            ]
          },
          "metadata": {
            "tags": []
          },
          "execution_count": 19
        },
        {
          "output_type": "stream",
          "text": [
            "time: 4.86 ms (started: 2021-05-24 10:33:16 +00:00)\n"
          ],
          "name": "stdout"
        }
      ]
    },
    {
      "cell_type": "code",
      "metadata": {
        "colab": {
          "base_uri": "https://localhost:8080/"
        },
        "id": "rI96xL_rtCDi",
        "outputId": "047fc98a-67e0-48c6-8a41-892bd5101856"
      },
      "source": [
        "from sklearn.metrics import accuracy_score,confusion_matrix"
      ],
      "execution_count": 20,
      "outputs": [
        {
          "output_type": "stream",
          "text": [
            "time: 1.39 ms (started: 2021-05-24 10:33:16 +00:00)\n"
          ],
          "name": "stdout"
        }
      ]
    },
    {
      "cell_type": "code",
      "metadata": {
        "colab": {
          "base_uri": "https://localhost:8080/"
        },
        "id": "qdRzBmgVtEJR",
        "outputId": "b534d7f0-c7b4-406c-a69f-fad3096aea4b"
      },
      "source": [
        "accuracy_score(y_pred,y_test)"
      ],
      "execution_count": 21,
      "outputs": [
        {
          "output_type": "execute_result",
          "data": {
            "text/plain": [
              "0.78125"
            ]
          },
          "metadata": {
            "tags": []
          },
          "execution_count": 21
        },
        {
          "output_type": "stream",
          "text": [
            "time: 9.4 ms (started: 2021-05-24 10:33:16 +00:00)\n"
          ],
          "name": "stdout"
        }
      ]
    },
    {
      "cell_type": "code",
      "metadata": {
        "colab": {
          "base_uri": "https://localhost:8080/"
        },
        "id": "tpOXAl59tGsq",
        "outputId": "b1a5feb2-b0e5-401e-9a0c-30cd5c70679b"
      },
      "source": [
        "confusion_matrix(y_pred,y_test)"
      ],
      "execution_count": 22,
      "outputs": [
        {
          "output_type": "execute_result",
          "data": {
            "text/plain": [
              "array([[ 4,  0,  0],\n",
              "       [ 3, 12,  4],\n",
              "       [ 0,  0,  9]])"
            ]
          },
          "metadata": {
            "tags": []
          },
          "execution_count": 22
        },
        {
          "output_type": "stream",
          "text": [
            "time: 5.85 ms (started: 2021-05-24 10:33:16 +00:00)\n"
          ],
          "name": "stdout"
        }
      ]
    },
    {
      "cell_type": "code",
      "metadata": {
        "colab": {
          "base_uri": "https://localhost:8080/"
        },
        "id": "DH6W9begtI04",
        "outputId": "665f93e3-f0fa-43cb-b314-56c445f9c46a"
      },
      "source": [
        "import pickle\n",
        "pickle.dump(clf,open('img_model.p','wb'))"
      ],
      "execution_count": 23,
      "outputs": [
        {
          "output_type": "stream",
          "text": [
            "time: 46.2 ms (started: 2021-05-24 10:33:16 +00:00)\n"
          ],
          "name": "stdout"
        }
      ]
    },
    {
      "cell_type": "code",
      "metadata": {
        "colab": {
          "base_uri": "https://localhost:8080/"
        },
        "id": "xeBiCV2ktMoj",
        "outputId": "054b23cd-829b-47ef-beeb-edb4e6bdcd99"
      },
      "source": [
        "model =pickle.load(open('img_model.p','rb'))"
      ],
      "execution_count": 24,
      "outputs": [
        {
          "output_type": "stream",
          "text": [
            "time: 13.2 ms (started: 2021-05-24 10:33:16 +00:00)\n"
          ],
          "name": "stdout"
        }
      ]
    },
    {
      "cell_type": "code",
      "metadata": {
        "colab": {
          "base_uri": "https://localhost:8080/",
          "height": 336
        },
        "id": "n3ibNBz3tONO",
        "outputId": "77ed919e-9469-4c70-b68a-fa9b05d148e5"
      },
      "source": [
        "flat_data= []\n",
        "url = input('enter your url')\n",
        "img = imread(url)\n",
        "img_resized =resize(img,(150,150,3))\n",
        "flat_data.append(img_resized.flatten())\n",
        "flat_data =np.array(flat_data)\n",
        "print(img.shape)\n",
        "plt.imshow(img_resized)\n",
        "y_out=model.predict(flat_data)\n",
        "y_out=CATEGORIES[y_out[0]]\n",
        "print(f'PREDICTED OUTPUT: {y_out}')"
      ],
      "execution_count": 26,
      "outputs": [
        {
          "output_type": "stream",
          "text": [
            "enter your urlhttps://sstsports.com/wp-content/uploads/2020/04/leather-ball-white.jpg\n",
            "(592, 615, 3)\n",
            "PREDICTED OUTPUT: cricketball\n"
          ],
          "name": "stdout"
        },
        {
          "output_type": "display_data",
          "data": {
            "image/png": "[encoded data removed]",
            "text/plain": [
              "<Figure size 432x288 with 1 Axes>"
            ]
          },
          "metadata": {
            "tags": [],
            "needs_background": "light"
          }
        },
        {
          "output_type": "stream",
          "text": [
            "time: 1min 2s (started: 2021-05-24 10:33:37 +00:00)\n"
          ],
          "name": "stdout"
        }
      ]
    },
    {
      "cell_type": "code",
      "metadata": {
        "id": "GCvJ_--7t5my"
      },
      "source": [
        ""
      ],
      "execution_count": 25,
      "outputs": []
    }
  ]
}